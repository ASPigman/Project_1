{
 "cells": [
  {
   "cell_type": "code",
   "execution_count": 1,
   "id": "9667ac7e",
   "metadata": {},
   "outputs": [],
   "source": [
    "#Dependencies\n",
    "import pandas as pd\n",
    "import numpy as np\n",
    "import matplotlib.pyplot as plt\n",
    "from pathlib import Path\n",
    "from scipy import stats"
   ]
  },
  {
   "cell_type": "code",
   "execution_count": 2,
   "id": "6d4f3062",
   "metadata": {},
   "outputs": [
    {
     "data": {
      "text/html": [
       "<div>\n",
       "<style scoped>\n",
       "    .dataframe tbody tr th:only-of-type {\n",
       "        vertical-align: middle;\n",
       "    }\n",
       "\n",
       "    .dataframe tbody tr th {\n",
       "        vertical-align: top;\n",
       "    }\n",
       "\n",
       "    .dataframe thead th {\n",
       "        text-align: right;\n",
       "    }\n",
       "</style>\n",
       "<table border=\"1\" class=\"dataframe\">\n",
       "  <thead>\n",
       "    <tr style=\"text-align: right;\">\n",
       "      <th></th>\n",
       "      <th>State</th>\n",
       "      <th>Total</th>\n",
       "      <th>&lt; 30 days</th>\n",
       "      <th>30 to &lt; 90 days</th>\n",
       "      <th>90 days to &lt; 6 months</th>\n",
       "      <th>6 months to &lt; 1 year</th>\n",
       "      <th>1 year to &lt; 2 years</th>\n",
       "      <th>2 years to &lt; 3 years</th>\n",
       "      <th>3 years to &lt; 5 years</th>\n",
       "      <th>&gt; 5 years</th>\n",
       "      <th>Payment type</th>\n",
       "      <th>Blood type</th>\n",
       "      <th>Age</th>\n",
       "      <th>Ethnicity</th>\n",
       "      <th>Sex</th>\n",
       "    </tr>\n",
       "  </thead>\n",
       "  <tbody>\n",
       "    <tr>\n",
       "      <th>0</th>\n",
       "      <td>Alabama</td>\n",
       "      <td>455</td>\n",
       "      <td>9</td>\n",
       "      <td>22</td>\n",
       "      <td>61</td>\n",
       "      <td>101</td>\n",
       "      <td>146</td>\n",
       "      <td>73</td>\n",
       "      <td>54</td>\n",
       "      <td>40</td>\n",
       "      <td>NaN</td>\n",
       "      <td>NaN</td>\n",
       "      <td>NaN</td>\n",
       "      <td>NaN</td>\n",
       "      <td>Female</td>\n",
       "    </tr>\n",
       "    <tr>\n",
       "      <th>1</th>\n",
       "      <td>Alabama</td>\n",
       "      <td>713</td>\n",
       "      <td>16</td>\n",
       "      <td>38</td>\n",
       "      <td>87</td>\n",
       "      <td>150</td>\n",
       "      <td>237</td>\n",
       "      <td>135</td>\n",
       "      <td>95</td>\n",
       "      <td>43</td>\n",
       "      <td>NaN</td>\n",
       "      <td>NaN</td>\n",
       "      <td>NaN</td>\n",
       "      <td>NaN</td>\n",
       "      <td>Male</td>\n",
       "    </tr>\n",
       "    <tr>\n",
       "      <th>2</th>\n",
       "      <td>Alabama</td>\n",
       "      <td>787</td>\n",
       "      <td>5</td>\n",
       "      <td>7</td>\n",
       "      <td>72</td>\n",
       "      <td>169</td>\n",
       "      <td>267</td>\n",
       "      <td>146</td>\n",
       "      <td>97</td>\n",
       "      <td>48</td>\n",
       "      <td>Public insurance - Medicare FFS (Fee for Service)</td>\n",
       "      <td>NaN</td>\n",
       "      <td>NaN</td>\n",
       "      <td>NaN</td>\n",
       "      <td>NaN</td>\n",
       "    </tr>\n",
       "    <tr>\n",
       "      <th>3</th>\n",
       "      <td>Alabama</td>\n",
       "      <td>688</td>\n",
       "      <td>9</td>\n",
       "      <td>32</td>\n",
       "      <td>88</td>\n",
       "      <td>154</td>\n",
       "      <td>215</td>\n",
       "      <td>122</td>\n",
       "      <td>93</td>\n",
       "      <td>57</td>\n",
       "      <td>NaN</td>\n",
       "      <td>NaN</td>\n",
       "      <td>NaN</td>\n",
       "      <td>Black, Non-Hispanic</td>\n",
       "      <td>NaN</td>\n",
       "    </tr>\n",
       "    <tr>\n",
       "      <th>4</th>\n",
       "      <td>Alabama</td>\n",
       "      <td>631</td>\n",
       "      <td>14</td>\n",
       "      <td>30</td>\n",
       "      <td>80</td>\n",
       "      <td>136</td>\n",
       "      <td>209</td>\n",
       "      <td>124</td>\n",
       "      <td>81</td>\n",
       "      <td>46</td>\n",
       "      <td>NaN</td>\n",
       "      <td>O</td>\n",
       "      <td>NaN</td>\n",
       "      <td>NaN</td>\n",
       "      <td>NaN</td>\n",
       "    </tr>\n",
       "  </tbody>\n",
       "</table>\n",
       "</div>"
      ],
      "text/plain": [
       "     State Total < 30 days 30 to < 90 days 90 days to < 6 months  \\\n",
       "0  Alabama   455         9              22                    61   \n",
       "1  Alabama   713        16              38                    87   \n",
       "2  Alabama   787         5               7                    72   \n",
       "3  Alabama   688         9              32                    88   \n",
       "4  Alabama   631        14              30                    80   \n",
       "\n",
       "  6 months to < 1 year 1 year to < 2 years 2 years to < 3 years  \\\n",
       "0                  101                 146                   73   \n",
       "1                  150                 237                  135   \n",
       "2                  169                 267                  146   \n",
       "3                  154                 215                  122   \n",
       "4                  136                 209                  124   \n",
       "\n",
       "  3 years to < 5 years > 5 years  \\\n",
       "0                   54        40   \n",
       "1                   95        43   \n",
       "2                   97        48   \n",
       "3                   93        57   \n",
       "4                   81        46   \n",
       "\n",
       "                                        Payment type Blood type  Age  \\\n",
       "0                                                NaN        NaN  NaN   \n",
       "1                                                NaN        NaN  NaN   \n",
       "2  Public insurance - Medicare FFS (Fee for Service)        NaN  NaN   \n",
       "3                                                NaN        NaN  NaN   \n",
       "4                                                NaN          O  NaN   \n",
       "\n",
       "             Ethnicity     Sex  \n",
       "0                  NaN  Female  \n",
       "1                  NaN    Male  \n",
       "2                  NaN     NaN  \n",
       "3  Black, Non-Hispanic     NaN  \n",
       "4                  NaN     NaN  "
      ]
     },
     "execution_count": 2,
     "metadata": {},
     "output_type": "execute_result"
    }
   ],
   "source": [
    "# Store filepath in a variable\n",
    "OPTN_data = Path(\"Resources/cleaned_OPTN_data.csv\")\n",
    "\n",
    "# read the file - AP\n",
    "kidney_data = pd.read_csv(OPTN_data)\n",
    "\n",
    "kidney_data.head()"
   ]
  },
  {
   "cell_type": "code",
   "execution_count": 3,
   "id": "742d51ff",
   "metadata": {},
   "outputs": [],
   "source": [
    "# ignoring commas\n",
    "\n",
    "kidney_data[\"Total\"] = kidney_data[\"Total\"].str.replace(\",\", \"\")\n",
    "kidney_data[\"< 30 days\"] = kidney_data[\"< 30 days\"].str.replace(\",\", \"\")\n",
    "kidney_data[\"30 to < 90 days\"] = kidney_data[\"30 to < 90 days\"].str.replace(\",\", \"\")\n",
    "kidney_data[\"90 days to < 6 months\"] = kidney_data[\"90 days to < 6 months\"].str.replace(\",\", \"\")\n",
    "kidney_data[\"6 months to < 1 year\"] = kidney_data[\"6 months to < 1 year\"].str.replace(\",\", \"\")\n",
    "kidney_data[\"1 year to < 2 years\"] = kidney_data[\"1 year to < 2 years\"].str.replace(\",\", \"\")\n",
    "kidney_data[\"2 years to < 3 years\"] = kidney_data[\"2 years to < 3 years\"].str.replace(\",\", \"\")\n",
    "kidney_data[\"3 years to < 5 years\"] = kidney_data[\"3 years to < 5 years\"].str.replace(\",\", \"\")\n",
    "kidney_data[\"> 5 years\"] = kidney_data[\"> 5 years\"].str.replace(\",\", \"\")"
   ]
  },
  {
   "cell_type": "code",
   "execution_count": 4,
   "id": "c00f5ea6",
   "metadata": {},
   "outputs": [],
   "source": [
    "# need to type total and wait time columns as integers\n",
    "kidney_data[\"Total\"] = kidney_data[\"Total\"].astype(int)\n",
    "kidney_data[\"< 30 days\"] = kidney_data[\"< 30 days\"].astype(int)\n",
    "kidney_data[\"30 to < 90 days\"] = kidney_data[\"30 to < 90 days\"].astype(int)\n",
    "kidney_data[\"90 days to < 6 months\"] = kidney_data[\"90 days to < 6 months\"].astype(int)\n",
    "kidney_data[\"6 months to < 1 year\"] = kidney_data[\"6 months to < 1 year\"].astype(int)\n",
    "kidney_data[\"1 year to < 2 years\"] = kidney_data[\"1 year to < 2 years\"].astype(int)\n",
    "kidney_data[\"2 years to < 3 years\"] = kidney_data[\"2 years to < 3 years\"].astype(int)\n",
    "kidney_data[\"3 years to < 5 years\"] = kidney_data[\"3 years to < 5 years\"].astype(int)\n",
    "kidney_data[\"> 5 years\"] = kidney_data[\"> 5 years\"].astype(int)"
   ]
  },
  {
   "cell_type": "code",
   "execution_count": 5,
   "id": "b81f3bfe",
   "metadata": {},
   "outputs": [],
   "source": [
    "# testing\n",
    "# variable = kidney_data.loc[(kidney_data[\"Sex\"] == \"Female\") & (kidney_data[\"State\"] == \"Oklahoma\"), \"Total\"].values[0]\n",
    "# variable"
   ]
  },
  {
   "cell_type": "markdown",
   "id": "3171ebf5",
   "metadata": {},
   "source": [
    "### Oklahoma"
   ]
  },
  {
   "cell_type": "code",
   "execution_count": 6,
   "id": "47c59f3e",
   "metadata": {},
   "outputs": [
    {
     "data": {
      "text/plain": [
       "597"
      ]
     },
     "execution_count": 6,
     "metadata": {},
     "output_type": "execute_result"
    }
   ],
   "source": [
    "# Total candidates for Oklahoma\n",
    "\n",
    "ok_totals1 = kidney_data.loc[kidney_data[\"State\"] == \"Oklahoma\"]\n",
    "ok_male_totals = ok_totals1.loc[ok_totals1[\"Sex\"] == \"Male\"][\"Total\"].values[0]\n",
    "ok_female_totals = ok_totals1.loc[ok_totals1[\"Sex\"] == \"Female\"][\"Total\"].values[0]\n",
    "ok_totals = ok_male_totals + ok_female_totals\n",
    "ok_totals"
   ]
  },
  {
   "cell_type": "code",
   "execution_count": 7,
   "id": "b9e62d44",
   "metadata": {
    "scrolled": true
   },
   "outputs": [
    {
     "name": "stdout",
     "output_type": "stream",
     "text": [
      "341\n",
      "188\n",
      "65\n",
      "3\n"
     ]
    }
   ],
   "source": [
    "# Need to get wait time values for each blood type \n",
    "\n",
    "# Total for each blood type\n",
    "\n",
    "ok_blood_type_O = ok_totals1.loc[ok_totals1[\"Blood type\"] == \"O\"][\"Total\"].values[0]\n",
    "ok_blood_type_A = ok_totals1.loc[ok_totals1[\"Blood type\"] == \"A\"][\"Total\"].values[0]\n",
    "ok_blood_type_B = ok_totals1.loc[ok_totals1[\"Blood type\"] == \"B\"][\"Total\"].values[0]\n",
    "ok_blood_type_AB = ok_totals1.loc[ok_totals1[\"Blood type\"] == \"AB\"][\"Total\"].values[0]\n",
    "print(ok_blood_type_O)\n",
    "print(ok_blood_type_A)\n",
    "print(ok_blood_type_B)\n",
    "print(ok_blood_type_AB)"
   ]
  },
  {
   "cell_type": "code",
   "execution_count": 8,
   "id": "8d5cb7ed",
   "metadata": {},
   "outputs": [],
   "source": [
    "# Testing\n",
    "\n",
    "#type_O_wait1 = ok_totals1.loc[ok_totals1[\"Blood type\"] == \"O\"][\"< 30 days\"].values[0]\n",
    "#type_O_wait1\n"
   ]
  },
  {
   "cell_type": "code",
   "execution_count": 9,
   "id": "71a67bac",
   "metadata": {
    "scrolled": false
   },
   "outputs": [
    {
     "data": {
      "text/html": [
       "<div>\n",
       "<style scoped>\n",
       "    .dataframe tbody tr th:only-of-type {\n",
       "        vertical-align: middle;\n",
       "    }\n",
       "\n",
       "    .dataframe tbody tr th {\n",
       "        vertical-align: top;\n",
       "    }\n",
       "\n",
       "    .dataframe thead th {\n",
       "        text-align: right;\n",
       "    }\n",
       "</style>\n",
       "<table border=\"1\" class=\"dataframe\">\n",
       "  <thead>\n",
       "    <tr style=\"text-align: right;\">\n",
       "      <th></th>\n",
       "      <th>Blood type</th>\n",
       "      <th>&lt; 30 days</th>\n",
       "      <th>30 to &lt; 90 days</th>\n",
       "      <th>90 days to &lt; 6 months</th>\n",
       "      <th>6 months to &lt; 1 year</th>\n",
       "      <th>1 year to &lt; 2 years</th>\n",
       "      <th>2 years to &lt; 3 years</th>\n",
       "      <th>3 years to &lt; 5 years</th>\n",
       "      <th>&gt; 5 years</th>\n",
       "    </tr>\n",
       "  </thead>\n",
       "  <tbody>\n",
       "    <tr>\n",
       "      <th>1067</th>\n",
       "      <td>O</td>\n",
       "      <td>16</td>\n",
       "      <td>24</td>\n",
       "      <td>39</td>\n",
       "      <td>64</td>\n",
       "      <td>82</td>\n",
       "      <td>70</td>\n",
       "      <td>48</td>\n",
       "      <td>15</td>\n",
       "    </tr>\n",
       "    <tr>\n",
       "      <th>1071</th>\n",
       "      <td>A</td>\n",
       "      <td>14</td>\n",
       "      <td>15</td>\n",
       "      <td>21</td>\n",
       "      <td>46</td>\n",
       "      <td>47</td>\n",
       "      <td>25</td>\n",
       "      <td>15</td>\n",
       "      <td>7</td>\n",
       "    </tr>\n",
       "    <tr>\n",
       "      <th>1078</th>\n",
       "      <td>B</td>\n",
       "      <td>3</td>\n",
       "      <td>9</td>\n",
       "      <td>7</td>\n",
       "      <td>13</td>\n",
       "      <td>13</td>\n",
       "      <td>8</td>\n",
       "      <td>9</td>\n",
       "      <td>5</td>\n",
       "    </tr>\n",
       "    <tr>\n",
       "      <th>1088</th>\n",
       "      <td>AB</td>\n",
       "      <td>0</td>\n",
       "      <td>0</td>\n",
       "      <td>1</td>\n",
       "      <td>0</td>\n",
       "      <td>1</td>\n",
       "      <td>1</td>\n",
       "      <td>0</td>\n",
       "      <td>0</td>\n",
       "    </tr>\n",
       "  </tbody>\n",
       "</table>\n",
       "</div>"
      ],
      "text/plain": [
       "     Blood type  < 30 days  30 to < 90 days  90 days to < 6 months  \\\n",
       "1067          O         16               24                     39   \n",
       "1071          A         14               15                     21   \n",
       "1078          B          3                9                      7   \n",
       "1088         AB          0                0                      1   \n",
       "\n",
       "      6 months to < 1 year  1 year to < 2 years  2 years to < 3 years  \\\n",
       "1067                    64                   82                    70   \n",
       "1071                    46                   47                    25   \n",
       "1078                    13                   13                     8   \n",
       "1088                     0                    1                     1   \n",
       "\n",
       "      3 years to < 5 years  > 5 years  \n",
       "1067                    48         15  \n",
       "1071                    15          7  \n",
       "1078                     9          5  \n",
       "1088                     0          0  "
      ]
     },
     "execution_count": 9,
     "metadata": {},
     "output_type": "execute_result"
    }
   ],
   "source": [
    "# Creating blood type vs wait time dataframe\n",
    "\n",
    "ok_blood_type_wait = pd.DataFrame(ok_totals1[[\"Blood type\",\"< 30 days\", \"30 to < 90 days\", \"90 days to < 6 months\", \n",
    "                                        \"6 months to < 1 year\", \"1 year to < 2 years\",\"2 years to < 3 years\", \n",
    "                                        \"3 years to < 5 years\", \"> 5 years\"]]).dropna()\n",
    "ok_blood_type_wait"
   ]
  },
  {
   "cell_type": "code",
   "execution_count": 10,
   "id": "38d483d3",
   "metadata": {},
   "outputs": [
    {
     "name": "stdout",
     "output_type": "stream",
     "text": [
      "                                  mean  median  var  std  sem\n",
      "Blood type WaitTime                                          \n",
      "A          1 year to < 2 years    47.0    47.0  NaN  NaN  NaN\n",
      "           2 years to < 3 years   25.0    25.0  NaN  NaN  NaN\n",
      "           3 years to < 5 years   15.0    15.0  NaN  NaN  NaN\n",
      "           30 to < 90 days        15.0    15.0  NaN  NaN  NaN\n",
      "           6 months to < 1 year   46.0    46.0  NaN  NaN  NaN\n",
      "           90 days to < 6 months  21.0    21.0  NaN  NaN  NaN\n",
      "           < 30 days              14.0    14.0  NaN  NaN  NaN\n",
      "           > 5 years               7.0     7.0  NaN  NaN  NaN\n",
      "AB         1 year to < 2 years     1.0     1.0  NaN  NaN  NaN\n",
      "           2 years to < 3 years    1.0     1.0  NaN  NaN  NaN\n",
      "           3 years to < 5 years    0.0     0.0  NaN  NaN  NaN\n",
      "           30 to < 90 days         0.0     0.0  NaN  NaN  NaN\n",
      "           6 months to < 1 year    0.0     0.0  NaN  NaN  NaN\n",
      "           90 days to < 6 months   1.0     1.0  NaN  NaN  NaN\n",
      "           < 30 days               0.0     0.0  NaN  NaN  NaN\n",
      "           > 5 years               0.0     0.0  NaN  NaN  NaN\n",
      "B          1 year to < 2 years    13.0    13.0  NaN  NaN  NaN\n",
      "           2 years to < 3 years    8.0     8.0  NaN  NaN  NaN\n",
      "           3 years to < 5 years    9.0     9.0  NaN  NaN  NaN\n",
      "           30 to < 90 days         9.0     9.0  NaN  NaN  NaN\n",
      "           6 months to < 1 year   13.0    13.0  NaN  NaN  NaN\n",
      "           90 days to < 6 months   7.0     7.0  NaN  NaN  NaN\n",
      "           < 30 days               3.0     3.0  NaN  NaN  NaN\n",
      "           > 5 years               5.0     5.0  NaN  NaN  NaN\n",
      "O          1 year to < 2 years    82.0    82.0  NaN  NaN  NaN\n",
      "           2 years to < 3 years   70.0    70.0  NaN  NaN  NaN\n",
      "           3 years to < 5 years   48.0    48.0  NaN  NaN  NaN\n",
      "           30 to < 90 days        24.0    24.0  NaN  NaN  NaN\n",
      "           6 months to < 1 year   64.0    64.0  NaN  NaN  NaN\n",
      "           90 days to < 6 months  39.0    39.0  NaN  NaN  NaN\n",
      "           < 30 days              16.0    16.0  NaN  NaN  NaN\n",
      "           > 5 years              15.0    15.0  NaN  NaN  NaN\n"
     ]
    }
   ],
   "source": [
    "#Drop nan rows\n",
    "ok_blood_type_wait = ok_blood_type_wait.dropna()\n",
    "\n",
    "#Reshape the data with melt for analysis.\n",
    "melted_dataok = ok_blood_type_wait.melt(id_vars=[\"Blood type\"], var_name=\"WaitTime\", value_name=\"Days\")\n",
    "\n",
    "#Try dropping nan values again? This didn't work because there are too many zero, null values\n",
    "melted_dataok = melted_dataok.dropna()\n",
    "\n",
    "#Group data by blood type and wait time categories\n",
    "grouped_dataok = melted_dataok.groupby([\"Blood type\", \"WaitTime\"])\n",
    "\n",
    "#Statistical analysis for each group\n",
    "stats_by_bloodtype = grouped_dataok[\"Days\"].agg([\"mean\", \"median\", \"var\", \"std\", \"sem\"])\n",
    "\n",
    "#Display\n",
    "print(stats_by_bloodtype)"
   ]
  },
  {
   "cell_type": "code",
   "execution_count": 13,
   "id": "d2a716cb",
   "metadata": {},
   "outputs": [
    {
     "name": "stdout",
     "output_type": "stream",
     "text": [
      "\n",
      "After Mapping:\n",
      "     Blood type  < 30 days  30 to < 90 days  90 days to < 6 months  \\\n",
      "1067          O         16               24                     39   \n",
      "1071          A         14               15                     21   \n",
      "1078          B          3                9                      7   \n",
      "1088         AB          0                0                      1   \n",
      "\n",
      "      6 months to < 1 year  1 year to < 2 years  2 years to < 3 years  \\\n",
      "1067                    64                   82                    70   \n",
      "1071                    46                   47                    25   \n",
      "1078                    13                   13                     8   \n",
      "1088                     0                    1                     1   \n",
      "\n",
      "      3 years to < 5 years  > 5 years  Numeric_< 30 days  \\\n",
      "1067                    48         15                NaN   \n",
      "1071                    15          7                NaN   \n",
      "1078                     9          5                NaN   \n",
      "1088                     0          0                NaN   \n",
      "\n",
      "      Numeric_30 to < 90 days  Numeric_90 days to < 6 months  \\\n",
      "1067                      NaN                            NaN   \n",
      "1071                      NaN                            NaN   \n",
      "1078                      NaN                            NaN   \n",
      "1088                      NaN                            NaN   \n",
      "\n",
      "      Numeric_6 months to < 1 year  Numeric_1 year to < 2 years  \\\n",
      "1067                           NaN                          NaN   \n",
      "1071                           NaN                          NaN   \n",
      "1078                           NaN                          NaN   \n",
      "1088                           NaN                          NaN   \n",
      "\n",
      "      Numeric_2 years to < 3 years  Numeric_3 years to < 5 years  \\\n",
      "1067                           NaN                           NaN   \n",
      "1071                           NaN                           NaN   \n",
      "1078                           NaN                           NaN   \n",
      "1088                           NaN                           NaN   \n",
      "\n",
      "      Numeric_> 5 years  \n",
      "1067                NaN  \n",
      "1071                NaN  \n",
      "1078                NaN  \n",
      "1088                NaN  \n"
     ]
    }
   ],
   "source": [
    "#Experimentation with turning wait times into numeric values aka days\n",
    "timeframe_mapping = {\n",
    "    \"< 30 days\": 15,\n",
    "    \"30 to < 90 days\": 60,\n",
    "    \"90 days to < 6 months\": 120,\n",
    "    \"6 months to < 1 year\": 180,\n",
    "    \"1 year to < 2 years\": 365,\n",
    "    \"2 years to < 3 years\": 730,\n",
    "    \"3 years to < 5 years\": 1460,\n",
    "    \"> 5 years\": 1825}\n",
    "\n",
    "# Iterate over each wait time column and create corresponding numeric columns\n",
    "for column in [\"< 30 days\", \"30 to < 90 days\", \"90 days to < 6 months\",\n",
    "               \"6 months to < 1 year\", \"1 year to < 2 years\", \"2 years to < 3 years\",\n",
    "               \"3 years to < 5 years\", \"> 5 years\"]:\n",
    "    ok_blood_type_wait[f\"Numeric_{column}\"] = ok_blood_type_wait[column].map(timeframe_mapping)\n",
    "    \n",
    "print(\"\\nAfter Mapping:\")\n",
    "print(ok_blood_type_wait)"
   ]
  },
  {
   "cell_type": "code",
   "execution_count": null,
   "id": "89378764",
   "metadata": {},
   "outputs": [],
   "source": [
    "# Plot above on bar chart"
   ]
  },
  {
   "cell_type": "code",
   "execution_count": null,
   "id": "2197efb7",
   "metadata": {},
   "outputs": [],
   "source": [
    "# Creating sex vs wait time dataframe\n",
    "\n",
    "ok_sex_wait = pd.DataFrame(ok_totals1[[\"Sex\",\"< 30 days\", \"30 to < 90 days\", \"90 days to < 6 months\", \n",
    "                                        \"6 months to < 1 year\", \"1 year to < 2 years\",\"2 years to < 3 years\", \n",
    "                                        \"3 years to < 5 years\", \"> 5 years\"]]).dropna()\n",
    "ok_sex_wait"
   ]
  },
  {
   "cell_type": "code",
   "execution_count": null,
   "id": "eadaf558",
   "metadata": {},
   "outputs": [],
   "source": [
    "# Plot above on a bar chart"
   ]
  },
  {
   "cell_type": "code",
   "execution_count": null,
   "id": "fca4c8fb",
   "metadata": {},
   "outputs": [],
   "source": [
    "# Creating payment type vs wait time dataframe\n",
    "\n",
    "ok_payment_wait = pd.DataFrame(ok_totals1[[\"Payment type\",\"< 30 days\", \"30 to < 90 days\", \"90 days to < 6 months\", \n",
    "                                        \"6 months to < 1 year\", \"1 year to < 2 years\",\"2 years to < 3 years\", \n",
    "                                        \"3 years to < 5 years\", \"> 5 years\"]]).dropna()\n",
    "ok_payment_wait"
   ]
  },
  {
   "cell_type": "code",
   "execution_count": null,
   "id": "cd7ebbfc",
   "metadata": {},
   "outputs": [],
   "source": [
    "# Plot above on a bar chart"
   ]
  },
  {
   "cell_type": "code",
   "execution_count": null,
   "id": "82c654c3",
   "metadata": {},
   "outputs": [],
   "source": [
    "# Creating ethnicity vs wait time dataframe\n",
    "\n",
    "ok_ethnicity_wait = pd.DataFrame(ok_totals1[[\"Ethnicity\",\"< 30 days\", \"30 to < 90 days\", \"90 days to < 6 months\", \n",
    "                                        \"6 months to < 1 year\", \"1 year to < 2 years\",\"2 years to < 3 years\", \n",
    "                                        \"3 years to < 5 years\", \"> 5 years\"]]).dropna()\n",
    "ok_ethnicity_wait"
   ]
  },
  {
   "cell_type": "code",
   "execution_count": null,
   "id": "12427578",
   "metadata": {},
   "outputs": [],
   "source": [
    "# Plot above on a bar chart"
   ]
  },
  {
   "cell_type": "code",
   "execution_count": null,
   "id": "cbdf136c",
   "metadata": {},
   "outputs": [],
   "source": [
    "# Creating age vs wait time dataframe\n",
    "\n",
    "ok_age_wait = pd.DataFrame(ok_totals1[[\"Age\",\"< 30 days\", \"30 to < 90 days\", \"90 days to < 6 months\", \n",
    "                                        \"6 months to < 1 year\", \"1 year to < 2 years\",\"2 years to < 3 years\", \n",
    "                                        \"3 years to < 5 years\", \"> 5 years\"]]).dropna()\n",
    "ok_age_wait"
   ]
  },
  {
   "cell_type": "code",
   "execution_count": null,
   "id": "14a0afcb",
   "metadata": {},
   "outputs": [],
   "source": [
    "# Plot above on a bar chart"
   ]
  },
  {
   "cell_type": "code",
   "execution_count": null,
   "id": "cf4a9933",
   "metadata": {},
   "outputs": [],
   "source": [
    "#Statistical Analysis for wait times of each bloodtype: mean, median, variance, standard deviation, standard error of the mean (SEM)\n",
    "ok_blood_type_wait = kidney_data.groupby(\"Blood type\")\n"
   ]
  },
  {
   "cell_type": "code",
   "execution_count": null,
   "id": "cdcd3c32",
   "metadata": {},
   "outputs": [],
   "source": []
  }
 ],
 "metadata": {
  "kernelspec": {
   "display_name": "Python 3 (ipykernel)",
   "language": "python",
   "name": "python3"
  },
  "language_info": {
   "codemirror_mode": {
    "name": "ipython",
    "version": 3
   },
   "file_extension": ".py",
   "mimetype": "text/x-python",
   "name": "python",
   "nbconvert_exporter": "python",
   "pygments_lexer": "ipython3",
   "version": "3.10.13"
  }
 },
 "nbformat": 4,
 "nbformat_minor": 5
}
